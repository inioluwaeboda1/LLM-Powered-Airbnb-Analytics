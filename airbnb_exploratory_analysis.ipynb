{
 "cells": [
  {
   "cell_type": "code",
   "execution_count": null,
   "id": "c219df52-cb8d-4431-831a-3751a69062f2",
   "metadata": {},
   "outputs": [],
   "source": [
    "CUR, RUN_DS = \"s3a://airbnb-bucket-data/curated\", \"2025-08-25\"\n",
    "\n",
    "listings = spark.read.parquet(f\"{CUR}/dim_listing/ds={RUN_DS}\")\n",
    "reviews = spark.read.parquet(f\"{CUR}/fact_reviews_stage/ds={RUN_DS}\")\n",
    "dim_date = spark.read.parquet(f\"{CUR}/dim_date/ds={RUN_DS}\")\n"
   ]
  },
  {
   "cell_type": "code",
   "execution_count": null,
   "id": "f5893aaf-ca7f-4ebe-b3ae-c2a127a00f46",
   "metadata": {},
   "outputs": [
    {
     "name": "stderr",
     "output_type": "stream",
     "text": [
      "                                                                                \r"
     ]
    },
    {
     "name": "stdout",
     "output_type": "stream",
     "text": [
      "+----------------------------------+-----+\n",
      "|property_type                     |count|\n",
      "+----------------------------------+-----+\n",
      "|Private room in lighthouse        |2    |\n",
      "|Private room in loft              |171  |\n",
      "|Private room in earthen home      |3    |\n",
      "|Entire chalet                     |4    |\n",
      "|Earthen home                      |2    |\n",
      "|Shared room in bus                |1    |\n",
      "|Farm stay                         |4    |\n",
      "|Entire rental unit                |39372|\n",
      "|Shared room in hostel             |59   |\n",
      "|Shared room                       |4    |\n",
      "|Private room in condo             |3515 |\n",
      "|Room in boutique hotel            |239  |\n",
      "|Private room in religious building|4    |\n",
      "|Room in bed and breakfast         |24   |\n",
      "|Private room in casa particular   |86   |\n",
      "|Entire guesthouse                 |228  |\n",
      "|Private room in bungalow          |64   |\n",
      "|Entire cabin                      |39   |\n",
      "|Hut                               |2    |\n",
      "|Private room in nature lodge      |2    |\n",
      "+----------------------------------+-----+\n",
      "only showing top 20 rows\n",
      "\n"
     ]
    }
   ],
   "source": [
    "listings.printSchema()\n",
    "reviews.printSchema()\n",
    "dim_date.printSchema()\n"
   ]
  },
  {
   "cell_type": "code",
   "execution_count": null,
   "id": "608ed71d-7a78-46df-9190-4fb49c6b62ce",
   "metadata": {},
   "outputs": [
    {
     "name": "stderr",
     "output_type": "stream",
     "text": [
      "[Stage 5:>                                                          (0 + 1) / 1]\r"
     ]
    },
    {
     "name": "stdout",
     "output_type": "stream",
     "text": [
      "+----------------------------------+-----+\n",
      "|property_type                     |count|\n",
      "+----------------------------------+-----+\n",
      "|Entire rental unit                |39372|\n",
      "|Private room in rental unit       |14837|\n",
      "|Private room in home              |11835|\n",
      "|Entire condo                      |8800 |\n",
      "|Entire home                       |8756 |\n",
      "|Private room in condo             |3515 |\n",
      "|Entire serviced apartment         |1852 |\n",
      "|Private room in townhouse         |1294 |\n",
      "|Entire townhouse                  |1123 |\n",
      "|Room in hotel                     |783  |\n",
      "|Private room in bed and breakfast |486  |\n",
      "|Entire loft                       |367  |\n",
      "|Private room in guesthouse        |316  |\n",
      "|Room in boutique hotel            |239  |\n",
      "|Entire guesthouse                 |228  |\n",
      "|Shared room in rental unit        |191  |\n",
      "|Entire guest suite                |181  |\n",
      "|Private room in guest suite       |178  |\n",
      "|Private room in loft              |171  |\n",
      "|Private room in serviced apartment|144  |\n",
      "+----------------------------------+-----+\n",
      "only showing top 20 rows\n",
      "\n"
     ]
    },
    {
     "name": "stderr",
     "output_type": "stream",
     "text": [
      "                                                                                \r"
     ]
    }
   ],
   "source": [
    "# Properties that have more bathrooms than bedrooms\n",
    "listings.filter(\n",
    "    (listings.bathrooms > listings.bedrooms)\n",
    ") \\\n",
    ".select('listing_id', 'bathrooms', 'bedrooms') \\\n",
    ".show(10, truncate=False)"
   ]
  },
  {
   "cell_type": "code",
   "execution_count": null,
   "id": "7d9abe65-741d-44cc-9e26-294e1e6e392a",
   "metadata": {},
   "outputs": [
    {
     "name": "stderr",
     "output_type": "stream",
     "text": [
      "[Stage 8:>                                                          (0 + 1) / 1]\r"
     ]
    },
    {
     "name": "stdout",
     "output_type": "stream",
     "text": [
      "+----------------------------------+-----+---------------------------+\n",
      "|property_type                     |count|avg(review_scores_location)|\n",
      "+----------------------------------+-----+---------------------------+\n",
      "|Entire rental unit                |39372|4.72794867465818           |\n",
      "|Private room in rental unit       |14837|4.732797964376552          |\n",
      "|Private room in home              |11835|4.6990531037827195         |\n",
      "|Entire condo                      |8800 |4.763906656266228          |\n",
      "|Entire home                       |8756 |4.722269211782102          |\n",
      "|Private room in condo             |3515 |4.7656638325703            |\n",
      "|Entire serviced apartment         |1852 |4.7218975332068345         |\n",
      "|Private room in townhouse         |1294 |4.75918656056587           |\n",
      "|Entire townhouse                  |1123 |4.812793814432991          |\n",
      "|Room in hotel                     |783  |4.649164619164618          |\n",
      "|Private room in bed and breakfast |486  |4.7173976608187145         |\n",
      "|Entire loft                       |367  |4.798854489164088          |\n",
      "|Private room in guesthouse        |316  |4.62233606557377           |\n",
      "|Room in boutique hotel            |239  |4.7095652173913045         |\n",
      "|Entire guesthouse                 |228  |4.703333333333332          |\n",
      "|Shared room in rental unit        |191  |4.690833333333334          |\n",
      "|Entire guest suite                |181  |4.746829268292678          |\n",
      "|Private room in guest suite       |178  |4.782962962962964          |\n",
      "|Private room in loft              |171  |4.7570802919708015         |\n",
      "|Private room in serviced apartment|144  |4.613510638297872          |\n",
      "+----------------------------------+-----+---------------------------+\n",
      "only showing top 20 rows\n",
      "\n"
     ]
    },
    {
     "name": "stderr",
     "output_type": "stream",
     "text": [
      "                                                                                \r"
     ]
    }
   ],
   "source": [
    "# Properties where the price is greater than 5,000. Collect the result as a Python list\n",
    "\n",
    "listings.filter(\n",
    "    (listings.price > 5000)\n",
    ") \\\n",
    ".select('listing_id', 'price') \\\n",
    ".show(10, truncate=False)\n",
    "\n"
   ]
  },
  {
   "cell_type": "code",
   "execution_count": null,
   "id": "0ecc6319-a9ba-41e4-8553-5b3e2e3b83a7",
   "metadata": {},
   "outputs": [
    {
     "name": "stderr",
     "output_type": "stream",
     "text": [
      "                                                                                \r"
     ]
    }
   ],
   "source": [
    "# A list of properties with the following characteristics:\n",
    "# * price < 150\n",
    "# * more than 20 reviews\n",
    "# * review_scores_rating > 4.5\n",
    "\n",
    "listings.filter(\n",
    "    (listings.price < 150) &\n",
    "    (listings.number_of_reviews > 20) &\n",
    "    (listings.review_scores_rating > 4.5)\n",
    "  ) \\\n",
    ".select('listing_id', 'price', 'number_of_reviews', 'review_scores_rating') \\\n",
    ".show(truncate=False)"
   ]
  },
  {
   "cell_type": "code",
   "execution_count": null,
   "id": "899a7d5b-1678-4924-9402-a98e16cf7010",
   "metadata": {},
   "outputs": [
    {
     "name": "stdout",
     "output_type": "stream",
     "text": [
      "StructField('listing_id', LongType(), True)\n",
      "StructField('id', LongType(), True)\n",
      "StructField('date', DateType(), True)\n",
      "StructField('reviewer_id', IntegerType(), True)\n",
      "StructField('reviewer_name', StringType(), True)\n",
      "StructField('comments', StringType(), True)\n"
     ]
    }
   ],
   "source": [
    "# A list of properties with the following characteristics:\n",
    "# * price < 150 OR more than one bathroom\n",
    "\n",
    "listings.filter(\n",
    "    (listings.price < 150) | (listings.bedrooms > 1)\n",
    "  ) \\\n",
    ".select('listing_id', 'price', 'bedrooms') \\\n",
    ".show(truncate=False)"
   ]
  },
  {
   "cell_type": "code",
   "execution_count": null,
   "id": "c358e26f-325a-4898-b837-098530ef9140",
   "metadata": {},
   "outputs": [],
   "source": [
    "# A list of properties with the following with price < 150 OR more than one bathroom\n",
    "\n",
    "listings_with_price.filter(\n",
    "    (listings_with_price.price_numeric < 150) | (listings_with_price.bedrooms > 1)\n",
    "  ) \\\n",
    ".select('name', 'price_numeric', 'bedrooms') \\\n",
    ".show(truncate=False)"
   ]
  },
  {
   "cell_type": "code",
   "execution_count": null,
   "id": "18600e74-5cc6-4a90-858b-bd6ddc49b73a",
   "metadata": {},
   "outputs": [],
   "source": [
    "# The highest listing price in this dataset\n",
    "\n",
    "from pyspark.sql.functions import max\n",
    "\n",
    "listings \\\n",
    "  .select(max('price')) \\\n",
    "  .show()"
   ]
  },
  {
   "cell_type": "code",
   "execution_count": null,
   "id": "5ae431b3-c1c2-47e8-bae4-fb10f87fb5b3",
   "metadata": {},
   "outputs": [],
   "source": [
    "# The number of hosts in the dataset\n",
    "listings \\\n",
    "  .select('host_id') \\\n",
    "  .distinct() \\\n",
    "  .count()"
   ]
  },
  {
   "cell_type": "code",
   "execution_count": null,
   "id": "590bd851",
   "metadata": {},
   "outputs": [],
   "source": [
    "# The total number of listings and average review score per host\n",
    "\n",
    "from pyspark.sql.functions import avg, count\n",
    "\n",
    "host_stats = listings \\\n",
    "  .filter(listings.review_scores_rating.isNotNull()) \\\n",
    "  .groupBy('host_id') \\\n",
    "  .agg(\n",
    "    count('host_id').alias('total_listings'),\n",
    "    avg('review_scores_rating').alias('average_review_score')\n",
    "  ) \\\n",
    "  .show(10)"
   ]
  },
  {
   "cell_type": "code",
   "execution_count": null,
   "id": "9e0a827f",
   "metadata": {},
   "outputs": [],
   "source": [
    "# The top ten listings with the highest number of reviews\n",
    "\n",
    "reviews \\\n",
    "  .groupBy('listing_id') \\\n",
    "  .count() \\\n",
    "  .orderBy('count', ascending=False) \\\n",
    "  .limit(10) \\\n",
    "  .show()"
   ]
  },
  {
   "cell_type": "code",
   "execution_count": null,
   "id": "f7dbf92b",
   "metadata": {},
   "outputs": [],
   "source": [
    "# The top five neighborhoods with the most listings\n",
    "\n",
    "listings \\\n",
    "  .groupBy('neighbourhood_cleansed') \\\n",
    "  .count() \\\n",
    "  .orderBy('count', ascending=False) \\\n",
    "  .limit(5) \\\n",
    "  .show()"
   ]
  },
  {
   "cell_type": "code",
   "execution_count": null,
   "id": "50ec8aae",
   "metadata": {},
   "outputs": [],
   "source": [
    "# The number of reviews per listing using the \"reviews\" dataset\n",
    "\n",
    "reviews_per_listing = reviews \\\n",
    "  .groupBy('listing_id') \\\n",
    "  .count() \\\n",
    "  .show(10)"
   ]
  },
  {
   "cell_type": "code",
   "execution_count": null,
   "id": "8677cd6d",
   "metadata": {},
   "outputs": [],
   "source": [
    "# The number of reviews per listing using the \"reviews\" dataset\n",
    "\n",
    "reviews_per_listing = reviews \\\n",
    "  .groupBy('listing_id') \\\n",
    "  .count() \\\n",
    "  .show(10)"
   ]
  },
  {
   "cell_type": "code",
   "execution_count": null,
   "id": "3041c91a",
   "metadata": {},
   "outputs": [],
   "source": [
    "# The total number of listings and average review score per host\n",
    "\n",
    "from pyspark.sql.functions import avg, count\n",
    "\n",
    "host_stats = listings \\\n",
    "  .filter(listings.review_scores_rating.isNotNull()) \\\n",
    "  .groupBy('host_id') \\\n",
    "  .agg(\n",
    "    count('id').alias('total_listings'),\n",
    "    avg('review_scores_rating').alias('average_review_score')\n",
    "  ) \\\n",
    "  .show(10)"
   ]
  },
  {
   "cell_type": "code",
   "execution_count": null,
   "id": "173c14a9",
   "metadata": {},
   "outputs": [],
   "source": [
    "# The top ten listings with the highest number of reviews\n",
    "\n",
    "reviews \\\n",
    "  .groupBy('listing_id') \\\n",
    "  .count() \\\n",
    "  .orderBy('count', ascending=False) \\\n",
    "  .limit(10) \\\n",
    "  .show()"
   ]
  },
  {
   "cell_type": "code",
   "execution_count": null,
   "id": "571ea1c6",
   "metadata": {},
   "outputs": [],
   "source": [
    "# A data frame with the following two columns:\n",
    "# * Reviewer's name\n",
    "# * Review's comment\n",
    "\n",
    "listings.join(reviews, listings.listing_id == reviews.listing_id, 'inner') \\\n",
    "  .select(listings.listing_id, 'review_id', 'comments') \\\n",
    "  .show(truncate=False)"
   ]
  },
  {
   "cell_type": "code",
   "execution_count": null,
   "id": "e7a571e4",
   "metadata": {},
   "outputs": [],
   "source": [
    "# Listings without reviews\n",
    "listings_without_reviews = listings \\\n",
    "  .join(\n",
    "    reviews,\n",
    "    listings.listing_id == reviews.listing_id,\n",
    "    how='left_anti'\n",
    "  ) \\\n",
    "  .select('listing_id') \\\n",
    "  .show(truncate=False)"
   ]
  },
  {
   "cell_type": "code",
   "execution_count": null,
   "id": "53b0cdbd",
   "metadata": {},
   "outputs": [],
   "source": [
    "# Adding a new column to the listings DataFrame that computes a string category depending on its price.\n",
    "\n",
    "# The category is defined in the following way:\n",
    "# * price < 50 -> \"Budget\"\n",
    "# * 50 <= price < 150 -> \"Mid-range\"\n",
    "# * price >= 150 -> \"Luxury\"\n",
    "\n",
    "\n",
    "from pyspark.sql.functions import udf\n",
    "from pyspark.sql.types import StringType\n",
    "\n",
    "\n",
    "def categorize_price(price):\n",
    "    if price is None:\n",
    "        return 'Unknown'\n",
    "    elif price < 50:\n",
    "        return 'Budget'\n",
    "    elif 50 <= price < 150:\n",
    "        return 'Mid-range'\n",
    "    elif price >= 150:\n",
    "        return 'Luxury'\n",
    "    else:\n",
    "        return 'Unknown'\n",
    "\n",
    "categorize_price_udf = udf(categorize_price, StringType())\n",
    "\n",
    "listings_with_category = listings \\\n",
    "  .filter(listings.price.isNotNull()) \\\n",
    "  .withColumn(\n",
    "    'price_category',\n",
    "    categorize_price_udf(listings.price)\n",
    "  ) \\\n",
    "  .groupBy('price_category') \\\n",
    "  .count() \\\n",
    "  .show()"
   ]
  },
  {
   "cell_type": "code",
   "execution_count": null,
   "id": "28a68c93",
   "metadata": {},
   "outputs": [],
   "source": [
    "\n",
    "# Top five listings with the highest average review comment length. \n",
    "\n",
    "reviews.createOrReplaceTempView(\"reviews\")\n",
    "listings.createOrReplaceTempView(\"listings\")\n",
    "\n",
    "\n",
    "sql_query = \"\"\"\n",
    "SELECT\n",
    "  r.listing_id,\n",
    "  AVG(LENGTH(r.comments)) AS average_comment_length,\n",
    "  COUNT(r.id) AS reviews_count\n",
    "FROM\n",
    "  reviews r\n",
    "JOIN\n",
    "  listings l\n",
    "  ON r.listing_id = l.id\n",
    "GROUP BY\n",
    "  r.listing_id\n",
    "HAVING\n",
    "  COUNT(r.id) >= 5\n",
    "ORDER BY\n",
    "  average_comment_length DESC\n",
    "\"\"\"\n",
    "\n",
    "spark \\\n",
    "  .sql(sql_query) \\\n",
    "  .show()"
   ]
  },
  {
   "cell_type": "code",
   "execution_count": null,
   "id": "491eb66f",
   "metadata": {},
   "outputs": [],
   "source": [
    "# Average time passed from the first review for each listing in the listings dataset. \n",
    "\n",
    "from pyspark.sql.functions import col, pandas_udf\n",
    "from pyspark.sql.types import DoubleType\n",
    "from pyspark.sql.functions import PandasUDFType\n",
    "import pandas as pd\n",
    "\n",
    "\n",
    "@pandas_udf(DoubleType(), functionType=PandasUDFType.GROUPED_AGG)\n",
    "def average_days_since_first_review_udf(first_review_series) -> float:\n",
    "    today = pd.to_datetime('today')\n",
    "    listing_ages = (today - pd.to_datetime(first_review_series)).dt.days\n",
    "    if listing_ages.empty:\n",
    "        return None\n",
    "    return listing_ages.mean()\n",
    "\n",
    "listings \\\n",
    "  .filter(\n",
    "    listings.first_review.isNotNull()\n",
    "  ) \\\n",
    "  .groupBy('host_id') \\\n",
    "  .agg(\n",
    "    average_days_since_first_review_udf(listings.first_review).alias('average_days_since_first_review_days')\n",
    "  ) \\\n",
    "  .show()"
   ]
  }
 ],
 "metadata": {
  "kernelspec": {
   "display_name": "Python 3 (ipykernel)",
   "language": "python",
   "name": "python3"
  },
  "language_info": {
   "codemirror_mode": {
    "name": "ipython",
    "version": 3
   },
   "file_extension": ".py",
   "mimetype": "text/x-python",
   "name": "python",
   "nbconvert_exporter": "python",
   "pygments_lexer": "ipython3",
   "version": "3.12.7"
  }
 },
 "nbformat": 4,
 "nbformat_minor": 5
}
